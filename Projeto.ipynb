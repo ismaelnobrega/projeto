{
  "nbformat": 4,
  "nbformat_minor": 0,
  "metadata": {
    "colab": {
      "name": "Projeto.ipynb",
      "provenance": [],
      "collapsed_sections": []
    },
    "kernelspec": {
      "name": "python3",
      "display_name": "Python 3"
    }
  },
  "cells": [
    {
      "cell_type": "markdown",
      "metadata": {
        "id": "bi9PxY5dE3Ke",
        "colab_type": "text"
      },
      "source": [
        "## **Importando dados de eventos - Quantidade Total de Inscritos - Quantidade de Concluintes - Valor por Inscrição - % de Ocupação de cada Evento**"
      ]
    },
    {
      "cell_type": "code",
      "metadata": {
        "id": "97XJrgIhDNjc",
        "colab_type": "code",
        "colab": {}
      },
      "source": [
        "import numpy as np\n",
        "import pandas as pd\n",
        "eventos=pd.read_csv(\"https://raw.githubusercontent.com/ismaelnobrega/projeto/master/dados_eventos.csv\", encoding=\"ISO-8859-1\", sep=';', dtype={'Valor Recebido':np.float, '% de Ocupação':np.float})\n"
      ],
      "execution_count": 0,
      "outputs": []
    },
    {
      "cell_type": "code",
      "metadata": {
        "id": "jlCfwjOmAarq",
        "colab_type": "code",
        "colab": {
          "base_uri": "https://localhost:8080/",
          "height": 238
        },
        "outputId": "b43b1b70-8bc6-4224-8a6f-1b610ba75155"
      },
      "source": [
        "eventos.head()"
      ],
      "execution_count": 149,
      "outputs": [
        {
          "output_type": "execute_result",
          "data": {
            "text/html": [
              "<div>\n",
              "<style scoped>\n",
              "    .dataframe tbody tr th:only-of-type {\n",
              "        vertical-align: middle;\n",
              "    }\n",
              "\n",
              "    .dataframe tbody tr th {\n",
              "        vertical-align: top;\n",
              "    }\n",
              "\n",
              "    .dataframe thead th {\n",
              "        text-align: right;\n",
              "    }\n",
              "</style>\n",
              "<table border=\"1\" class=\"dataframe\">\n",
              "  <thead>\n",
              "    <tr style=\"text-align: right;\">\n",
              "      <th></th>\n",
              "      <th>Ano do Evento</th>\n",
              "      <th>Nome do Evento</th>\n",
              "      <th>Evento Gratuito</th>\n",
              "      <th>Qtd Total de Inscritos</th>\n",
              "      <th>Qtd Concluintes</th>\n",
              "      <th>Valor Recebido</th>\n",
              "      <th>% de Ocupação</th>\n",
              "    </tr>\n",
              "  </thead>\n",
              "  <tbody>\n",
              "    <tr>\n",
              "      <th>0</th>\n",
              "      <td>2017</td>\n",
              "      <td>AGRICULTURA FAMILIAR - PNAE</td>\n",
              "      <td>Sim</td>\n",
              "      <td>7</td>\n",
              "      <td>7</td>\n",
              "      <td>0.0</td>\n",
              "      <td>0.212121</td>\n",
              "    </tr>\n",
              "    <tr>\n",
              "      <th>1</th>\n",
              "      <td>2017</td>\n",
              "      <td>Campina innovation 2017 - Palestra Imergino no...</td>\n",
              "      <td>Sim</td>\n",
              "      <td>82</td>\n",
              "      <td>82</td>\n",
              "      <td>0.0</td>\n",
              "      <td>0.820000</td>\n",
              "    </tr>\n",
              "    <tr>\n",
              "      <th>2</th>\n",
              "      <td>2017</td>\n",
              "      <td>COMO ATENDER BEM MEU CLIENTE</td>\n",
              "      <td>Sim</td>\n",
              "      <td>22</td>\n",
              "      <td>22</td>\n",
              "      <td>0.0</td>\n",
              "      <td>0.578947</td>\n",
              "    </tr>\n",
              "    <tr>\n",
              "      <th>3</th>\n",
              "      <td>2017</td>\n",
              "      <td>COMPRAS GOVERNAMENTAIS - LICITAÇÃO</td>\n",
              "      <td>Sim</td>\n",
              "      <td>2</td>\n",
              "      <td>2</td>\n",
              "      <td>0.0</td>\n",
              "      <td>1.000000</td>\n",
              "    </tr>\n",
              "    <tr>\n",
              "      <th>4</th>\n",
              "      <td>2017</td>\n",
              "      <td>COMUNICAÇÃO EMPRESARIAL - CONSTRUINDO RELACION...</td>\n",
              "      <td>Sim</td>\n",
              "      <td>25</td>\n",
              "      <td>25</td>\n",
              "      <td>0.0</td>\n",
              "      <td>0.581395</td>\n",
              "    </tr>\n",
              "  </tbody>\n",
              "</table>\n",
              "</div>"
            ],
            "text/plain": [
              "  Ano do Evento  ... % de Ocupação\n",
              "0          2017  ...      0.212121\n",
              "1          2017  ...      0.820000\n",
              "2          2017  ...      0.578947\n",
              "3          2017  ...      1.000000\n",
              "4          2017  ...      0.581395\n",
              "\n",
              "[5 rows x 7 columns]"
            ]
          },
          "metadata": {
            "tags": []
          },
          "execution_count": 149
        }
      ]
    },
    {
      "cell_type": "markdown",
      "metadata": {
        "id": "XW79SuXdFOV7",
        "colab_type": "text"
      },
      "source": [
        "Visualizando tipos de dados para verificar quais serão transformados em categóricos"
      ]
    },
    {
      "cell_type": "code",
      "metadata": {
        "id": "1f0hVGRsAcBa",
        "colab_type": "code",
        "colab": {
          "base_uri": "https://localhost:8080/",
          "height": 153
        },
        "outputId": "5de6059b-3b5a-4493-89fe-d5fdbae8e906"
      },
      "source": [
        "eventos.dtypes"
      ],
      "execution_count": 150,
      "outputs": [
        {
          "output_type": "execute_result",
          "data": {
            "text/plain": [
              "Ano do Evento              object\n",
              "Nome do Evento             object\n",
              "Evento Gratuito            object\n",
              "Qtd Total de Inscritos      int64\n",
              "Qtd Concluintes             int64\n",
              "Valor Recebido            float64\n",
              "% de Ocupação             float64\n",
              "dtype: object"
            ]
          },
          "metadata": {
            "tags": []
          },
          "execution_count": 150
        }
      ]
    },
    {
      "cell_type": "markdown",
      "metadata": {
        "id": "C72Hv573Fabc",
        "colab_type": "text"
      },
      "source": [
        "Renomeando as colunas do Dataframe"
      ]
    },
    {
      "cell_type": "code",
      "metadata": {
        "id": "HymWj7TkXK_S",
        "colab_type": "code",
        "colab": {}
      },
      "source": [
        "eventos.rename(columns = {'Ano do Evento':'ano_evento', 'Nome do Evento':'nome_evento', 'Evento Gratuito':'evento_gratuito', 'Qtd Total de Inscritos':'qtd_inscritos', 'Qtd Concluintes':'qtd_concluintes', 'Valor Recebido':'valor_recebido', '% de Ocupação':'pct_ocupacao' }, inplace=True)"
      ],
      "execution_count": 0,
      "outputs": []
    },
    {
      "cell_type": "markdown",
      "metadata": {
        "id": "BVpZSTYTqYEH",
        "colab_type": "text"
      },
      "source": [
        "Visualizando as colunas para verificar os novos nomes"
      ]
    },
    {
      "cell_type": "code",
      "metadata": {
        "id": "tvDSt0uiZN0J",
        "colab_type": "code",
        "colab": {
          "base_uri": "https://localhost:8080/",
          "height": 68
        },
        "outputId": "10b369cf-e74f-4b83-af10-6ba234cf8bb1"
      },
      "source": [
        "eventos.columns"
      ],
      "execution_count": 152,
      "outputs": [
        {
          "output_type": "execute_result",
          "data": {
            "text/plain": [
              "Index(['ano_evento', 'nome_evento', 'evento_gratuito', 'qtd_inscritos',\n",
              "       'qtd_concluintes', 'valor_recebido', 'pct_ocupacao'],\n",
              "      dtype='object')"
            ]
          },
          "metadata": {
            "tags": []
          },
          "execution_count": 152
        }
      ]
    },
    {
      "cell_type": "code",
      "metadata": {
        "id": "8-6AA8D9cvQx",
        "colab_type": "code",
        "colab": {
          "base_uri": "https://localhost:8080/",
          "height": 419
        },
        "outputId": "fc014fe2-de0e-419c-d443-f46f1c93af2a"
      },
      "source": [
        "eventos.head(100)"
      ],
      "execution_count": 153,
      "outputs": [
        {
          "output_type": "execute_result",
          "data": {
            "text/html": [
              "<div>\n",
              "<style scoped>\n",
              "    .dataframe tbody tr th:only-of-type {\n",
              "        vertical-align: middle;\n",
              "    }\n",
              "\n",
              "    .dataframe tbody tr th {\n",
              "        vertical-align: top;\n",
              "    }\n",
              "\n",
              "    .dataframe thead th {\n",
              "        text-align: right;\n",
              "    }\n",
              "</style>\n",
              "<table border=\"1\" class=\"dataframe\">\n",
              "  <thead>\n",
              "    <tr style=\"text-align: right;\">\n",
              "      <th></th>\n",
              "      <th>ano_evento</th>\n",
              "      <th>nome_evento</th>\n",
              "      <th>evento_gratuito</th>\n",
              "      <th>qtd_inscritos</th>\n",
              "      <th>qtd_concluintes</th>\n",
              "      <th>valor_recebido</th>\n",
              "      <th>pct_ocupacao</th>\n",
              "    </tr>\n",
              "  </thead>\n",
              "  <tbody>\n",
              "    <tr>\n",
              "      <th>0</th>\n",
              "      <td>2017</td>\n",
              "      <td>AGRICULTURA FAMILIAR - PNAE</td>\n",
              "      <td>Sim</td>\n",
              "      <td>7</td>\n",
              "      <td>7</td>\n",
              "      <td>0.0</td>\n",
              "      <td>0.212121</td>\n",
              "    </tr>\n",
              "    <tr>\n",
              "      <th>1</th>\n",
              "      <td>2017</td>\n",
              "      <td>Campina innovation 2017 - Palestra Imergino no...</td>\n",
              "      <td>Sim</td>\n",
              "      <td>82</td>\n",
              "      <td>82</td>\n",
              "      <td>0.0</td>\n",
              "      <td>0.820000</td>\n",
              "    </tr>\n",
              "    <tr>\n",
              "      <th>2</th>\n",
              "      <td>2017</td>\n",
              "      <td>COMO ATENDER BEM MEU CLIENTE</td>\n",
              "      <td>Sim</td>\n",
              "      <td>22</td>\n",
              "      <td>22</td>\n",
              "      <td>0.0</td>\n",
              "      <td>0.578947</td>\n",
              "    </tr>\n",
              "    <tr>\n",
              "      <th>3</th>\n",
              "      <td>2017</td>\n",
              "      <td>COMPRAS GOVERNAMENTAIS - LICITAÇÃO</td>\n",
              "      <td>Sim</td>\n",
              "      <td>2</td>\n",
              "      <td>2</td>\n",
              "      <td>0.0</td>\n",
              "      <td>1.000000</td>\n",
              "    </tr>\n",
              "    <tr>\n",
              "      <th>4</th>\n",
              "      <td>2017</td>\n",
              "      <td>COMUNICAÇÃO EMPRESARIAL - CONSTRUINDO RELACION...</td>\n",
              "      <td>Sim</td>\n",
              "      <td>25</td>\n",
              "      <td>25</td>\n",
              "      <td>0.0</td>\n",
              "      <td>0.581395</td>\n",
              "    </tr>\n",
              "    <tr>\n",
              "      <th>...</th>\n",
              "      <td>...</td>\n",
              "      <td>...</td>\n",
              "      <td>...</td>\n",
              "      <td>...</td>\n",
              "      <td>...</td>\n",
              "      <td>...</td>\n",
              "      <td>...</td>\n",
              "    </tr>\n",
              "    <tr>\n",
              "      <th>95</th>\n",
              "      <td>2018</td>\n",
              "      <td>AULA-SHOW \"MARKETING DIGITAL: APLICAÇÕES E TEN...</td>\n",
              "      <td>Sim</td>\n",
              "      <td>53</td>\n",
              "      <td>29</td>\n",
              "      <td>0.0</td>\n",
              "      <td>0.265000</td>\n",
              "    </tr>\n",
              "    <tr>\n",
              "      <th>96</th>\n",
              "      <td>2018</td>\n",
              "      <td>Aumentando suas Vendas com Criatividade Atravé...</td>\n",
              "      <td>Sim</td>\n",
              "      <td>15</td>\n",
              "      <td>15</td>\n",
              "      <td>0.0</td>\n",
              "      <td>0.500000</td>\n",
              "    </tr>\n",
              "    <tr>\n",
              "      <th>97</th>\n",
              "      <td>2018</td>\n",
              "      <td>AVALIAÇÃO DE PRODUÇÃO DE FORRAGEIRA</td>\n",
              "      <td>Sim</td>\n",
              "      <td>7</td>\n",
              "      <td>7</td>\n",
              "      <td>0.0</td>\n",
              "      <td>0.700000</td>\n",
              "    </tr>\n",
              "    <tr>\n",
              "      <th>98</th>\n",
              "      <td>2018</td>\n",
              "      <td>AVICULTURA ALTERNATIVA</td>\n",
              "      <td>Sim</td>\n",
              "      <td>10</td>\n",
              "      <td>5</td>\n",
              "      <td>0.0</td>\n",
              "      <td>0.500000</td>\n",
              "    </tr>\n",
              "    <tr>\n",
              "      <th>99</th>\n",
              "      <td>2018</td>\n",
              "      <td>AVICULTURA ALTERNATIVA COMO FONTE DE RENDA</td>\n",
              "      <td>Sim</td>\n",
              "      <td>5</td>\n",
              "      <td>5</td>\n",
              "      <td>0.0</td>\n",
              "      <td>0.250000</td>\n",
              "    </tr>\n",
              "  </tbody>\n",
              "</table>\n",
              "<p>100 rows × 7 columns</p>\n",
              "</div>"
            ],
            "text/plain": [
              "   ano_evento  ... pct_ocupacao\n",
              "0        2017  ...     0.212121\n",
              "1        2017  ...     0.820000\n",
              "2        2017  ...     0.578947\n",
              "3        2017  ...     1.000000\n",
              "4        2017  ...     0.581395\n",
              "..        ...  ...          ...\n",
              "95       2018  ...     0.265000\n",
              "96       2018  ...     0.500000\n",
              "97       2018  ...     0.700000\n",
              "98       2018  ...     0.500000\n",
              "99       2018  ...     0.250000\n",
              "\n",
              "[100 rows x 7 columns]"
            ]
          },
          "metadata": {
            "tags": []
          },
          "execution_count": 153
        }
      ]
    },
    {
      "cell_type": "code",
      "metadata": {
        "id": "VLwksdpIZWlJ",
        "colab_type": "code",
        "colab": {
          "base_uri": "https://localhost:8080/",
          "height": 153
        },
        "outputId": "00cca312-f096-4e53-b174-b58109693500"
      },
      "source": [
        "eventos.dtypes"
      ],
      "execution_count": 154,
      "outputs": [
        {
          "output_type": "execute_result",
          "data": {
            "text/plain": [
              "ano_evento          object\n",
              "nome_evento         object\n",
              "evento_gratuito     object\n",
              "qtd_inscritos        int64\n",
              "qtd_concluintes      int64\n",
              "valor_recebido     float64\n",
              "pct_ocupacao       float64\n",
              "dtype: object"
            ]
          },
          "metadata": {
            "tags": []
          },
          "execution_count": 154
        }
      ]
    },
    {
      "cell_type": "markdown",
      "metadata": {
        "id": "61LBWRjvFoxL",
        "colab_type": "text"
      },
      "source": [
        "Alterando os tipos de dados das Colunas 'ano_evento', 'nome_evento', 'evento_gratuito' para tipos de dados categóricos"
      ]
    },
    {
      "cell_type": "code",
      "metadata": {
        "id": "k0gp9x3jdLT3",
        "colab_type": "code",
        "colab": {}
      },
      "source": [
        "eventos['ano_evento'] = eventos['ano_evento'].astype('category')\n",
        "eventos['nome_evento'] = eventos['nome_evento'].astype('category')\n",
        "eventos['evento_gratuito'] = eventos['evento_gratuito'].astype('category')"
      ],
      "execution_count": 0,
      "outputs": []
    },
    {
      "cell_type": "code",
      "metadata": {
        "id": "HM9CTHwvffJA",
        "colab_type": "code",
        "colab": {
          "base_uri": "https://localhost:8080/",
          "height": 153
        },
        "outputId": "512e6256-3b54-4cd9-950f-09d5ab88bbcd"
      },
      "source": [
        "eventos.dtypes"
      ],
      "execution_count": 156,
      "outputs": [
        {
          "output_type": "execute_result",
          "data": {
            "text/plain": [
              "ano_evento         category\n",
              "nome_evento        category\n",
              "evento_gratuito    category\n",
              "qtd_inscritos         int64\n",
              "qtd_concluintes       int64\n",
              "valor_recebido      float64\n",
              "pct_ocupacao        float64\n",
              "dtype: object"
            ]
          },
          "metadata": {
            "tags": []
          },
          "execution_count": 156
        }
      ]
    },
    {
      "cell_type": "code",
      "metadata": {
        "id": "hIA3qGrdHStZ",
        "colab_type": "code",
        "colab": {
          "base_uri": "https://localhost:8080/",
          "height": 34
        },
        "outputId": "079578eb-2f37-4583-e9b1-9b129dcbb671"
      },
      "source": [
        "eventos.shape"
      ],
      "execution_count": 157,
      "outputs": [
        {
          "output_type": "execute_result",
          "data": {
            "text/plain": [
              "(2451, 7)"
            ]
          },
          "metadata": {
            "tags": []
          },
          "execution_count": 157
        }
      ]
    },
    {
      "cell_type": "code",
      "metadata": {
        "id": "Z3Cn-rpvINnU",
        "colab_type": "code",
        "colab": {
          "base_uri": "https://localhost:8080/",
          "height": 153
        },
        "outputId": "55c0df3e-f325-49c5-d4e1-52e5bf884f20"
      },
      "source": [
        "print(eventos.isnull().sum())"
      ],
      "execution_count": 158,
      "outputs": [
        {
          "output_type": "stream",
          "text": [
            "ano_evento           0\n",
            "nome_evento          0\n",
            "evento_gratuito      0\n",
            "qtd_inscritos        0\n",
            "qtd_concluintes      0\n",
            "valor_recebido       0\n",
            "pct_ocupacao       318\n",
            "dtype: int64\n"
          ],
          "name": "stdout"
        }
      ]
    },
    {
      "cell_type": "code",
      "metadata": {
        "id": "EzbwO87ELZS5",
        "colab_type": "code",
        "colab": {}
      },
      "source": [
        "eventos2 = eventos.dropna(thresh=0.7*len(eventos), axis=1)"
      ],
      "execution_count": 0,
      "outputs": []
    },
    {
      "cell_type": "code",
      "metadata": {
        "id": "gV0IS1OvMSzo",
        "colab_type": "code",
        "colab": {
          "base_uri": "https://localhost:8080/",
          "height": 204
        },
        "outputId": "c9394619-3645-4d48-b764-c2bf0a02c240"
      },
      "source": [
        "eventos2.head()"
      ],
      "execution_count": 160,
      "outputs": [
        {
          "output_type": "execute_result",
          "data": {
            "text/html": [
              "<div>\n",
              "<style scoped>\n",
              "    .dataframe tbody tr th:only-of-type {\n",
              "        vertical-align: middle;\n",
              "    }\n",
              "\n",
              "    .dataframe tbody tr th {\n",
              "        vertical-align: top;\n",
              "    }\n",
              "\n",
              "    .dataframe thead th {\n",
              "        text-align: right;\n",
              "    }\n",
              "</style>\n",
              "<table border=\"1\" class=\"dataframe\">\n",
              "  <thead>\n",
              "    <tr style=\"text-align: right;\">\n",
              "      <th></th>\n",
              "      <th>ano_evento</th>\n",
              "      <th>nome_evento</th>\n",
              "      <th>evento_gratuito</th>\n",
              "      <th>qtd_inscritos</th>\n",
              "      <th>qtd_concluintes</th>\n",
              "      <th>valor_recebido</th>\n",
              "      <th>pct_ocupacao</th>\n",
              "    </tr>\n",
              "  </thead>\n",
              "  <tbody>\n",
              "    <tr>\n",
              "      <th>0</th>\n",
              "      <td>2017</td>\n",
              "      <td>AGRICULTURA FAMILIAR - PNAE</td>\n",
              "      <td>Sim</td>\n",
              "      <td>7</td>\n",
              "      <td>7</td>\n",
              "      <td>0.0</td>\n",
              "      <td>0.212121</td>\n",
              "    </tr>\n",
              "    <tr>\n",
              "      <th>1</th>\n",
              "      <td>2017</td>\n",
              "      <td>Campina innovation 2017 - Palestra Imergino no...</td>\n",
              "      <td>Sim</td>\n",
              "      <td>82</td>\n",
              "      <td>82</td>\n",
              "      <td>0.0</td>\n",
              "      <td>0.820000</td>\n",
              "    </tr>\n",
              "    <tr>\n",
              "      <th>2</th>\n",
              "      <td>2017</td>\n",
              "      <td>COMO ATENDER BEM MEU CLIENTE</td>\n",
              "      <td>Sim</td>\n",
              "      <td>22</td>\n",
              "      <td>22</td>\n",
              "      <td>0.0</td>\n",
              "      <td>0.578947</td>\n",
              "    </tr>\n",
              "    <tr>\n",
              "      <th>3</th>\n",
              "      <td>2017</td>\n",
              "      <td>COMPRAS GOVERNAMENTAIS - LICITAÇÃO</td>\n",
              "      <td>Sim</td>\n",
              "      <td>2</td>\n",
              "      <td>2</td>\n",
              "      <td>0.0</td>\n",
              "      <td>1.000000</td>\n",
              "    </tr>\n",
              "    <tr>\n",
              "      <th>4</th>\n",
              "      <td>2017</td>\n",
              "      <td>COMUNICAÇÃO EMPRESARIAL - CONSTRUINDO RELACION...</td>\n",
              "      <td>Sim</td>\n",
              "      <td>25</td>\n",
              "      <td>25</td>\n",
              "      <td>0.0</td>\n",
              "      <td>0.581395</td>\n",
              "    </tr>\n",
              "  </tbody>\n",
              "</table>\n",
              "</div>"
            ],
            "text/plain": [
              "  ano_evento  ... pct_ocupacao\n",
              "0       2017  ...     0.212121\n",
              "1       2017  ...     0.820000\n",
              "2       2017  ...     0.578947\n",
              "3       2017  ...     1.000000\n",
              "4       2017  ...     0.581395\n",
              "\n",
              "[5 rows x 7 columns]"
            ]
          },
          "metadata": {
            "tags": []
          },
          "execution_count": 160
        }
      ]
    },
    {
      "cell_type": "code",
      "metadata": {
        "id": "adCkrfRtMlE6",
        "colab_type": "code",
        "colab": {
          "base_uri": "https://localhost:8080/",
          "height": 153
        },
        "outputId": "2e971745-ca64-48bf-9e6f-571357d4d8d6"
      },
      "source": [
        "print(eventos2.isnull().sum())"
      ],
      "execution_count": 161,
      "outputs": [
        {
          "output_type": "stream",
          "text": [
            "ano_evento           0\n",
            "nome_evento          0\n",
            "evento_gratuito      0\n",
            "qtd_inscritos        0\n",
            "qtd_concluintes      0\n",
            "valor_recebido       0\n",
            "pct_ocupacao       318\n",
            "dtype: int64\n"
          ],
          "name": "stdout"
        }
      ]
    },
    {
      "cell_type": "markdown",
      "metadata": {
        "id": "5OrBnKJJF8kj",
        "colab_type": "text"
      },
      "source": [
        "**Verificando correlações com o método Spearman**"
      ]
    },
    {
      "cell_type": "code",
      "metadata": {
        "id": "j9p-BERjM-L7",
        "colab_type": "code",
        "colab": {
          "base_uri": "https://localhost:8080/",
          "height": 173
        },
        "outputId": "40b0eb77-55d1-48ed-d4d8-53284d406c94"
      },
      "source": [
        "eventos2.corr(method='spearman')"
      ],
      "execution_count": 162,
      "outputs": [
        {
          "output_type": "execute_result",
          "data": {
            "text/html": [
              "<div>\n",
              "<style scoped>\n",
              "    .dataframe tbody tr th:only-of-type {\n",
              "        vertical-align: middle;\n",
              "    }\n",
              "\n",
              "    .dataframe tbody tr th {\n",
              "        vertical-align: top;\n",
              "    }\n",
              "\n",
              "    .dataframe thead th {\n",
              "        text-align: right;\n",
              "    }\n",
              "</style>\n",
              "<table border=\"1\" class=\"dataframe\">\n",
              "  <thead>\n",
              "    <tr style=\"text-align: right;\">\n",
              "      <th></th>\n",
              "      <th>qtd_inscritos</th>\n",
              "      <th>qtd_concluintes</th>\n",
              "      <th>valor_recebido</th>\n",
              "      <th>pct_ocupacao</th>\n",
              "    </tr>\n",
              "  </thead>\n",
              "  <tbody>\n",
              "    <tr>\n",
              "      <th>qtd_inscritos</th>\n",
              "      <td>1.000000</td>\n",
              "      <td>0.873410</td>\n",
              "      <td>0.109472</td>\n",
              "      <td>0.275116</td>\n",
              "    </tr>\n",
              "    <tr>\n",
              "      <th>qtd_concluintes</th>\n",
              "      <td>0.873410</td>\n",
              "      <td>1.000000</td>\n",
              "      <td>0.159883</td>\n",
              "      <td>0.300851</td>\n",
              "    </tr>\n",
              "    <tr>\n",
              "      <th>valor_recebido</th>\n",
              "      <td>0.109472</td>\n",
              "      <td>0.159883</td>\n",
              "      <td>1.000000</td>\n",
              "      <td>0.136966</td>\n",
              "    </tr>\n",
              "    <tr>\n",
              "      <th>pct_ocupacao</th>\n",
              "      <td>0.275116</td>\n",
              "      <td>0.300851</td>\n",
              "      <td>0.136966</td>\n",
              "      <td>1.000000</td>\n",
              "    </tr>\n",
              "  </tbody>\n",
              "</table>\n",
              "</div>"
            ],
            "text/plain": [
              "                 qtd_inscritos  qtd_concluintes  valor_recebido  pct_ocupacao\n",
              "qtd_inscritos         1.000000         0.873410        0.109472      0.275116\n",
              "qtd_concluintes       0.873410         1.000000        0.159883      0.300851\n",
              "valor_recebido        0.109472         0.159883        1.000000      0.136966\n",
              "pct_ocupacao          0.275116         0.300851        0.136966      1.000000"
            ]
          },
          "metadata": {
            "tags": []
          },
          "execution_count": 162
        }
      ]
    },
    {
      "cell_type": "code",
      "metadata": {
        "id": "r4Zo9xM9Nxs0",
        "colab_type": "code",
        "colab": {
          "base_uri": "https://localhost:8080/",
          "height": 170
        },
        "outputId": "a5f36575-c79d-46fe-c3a0-5532da671d92"
      },
      "source": [
        "eventos2['qtd_concluintes'].describe()"
      ],
      "execution_count": 163,
      "outputs": [
        {
          "output_type": "execute_result",
          "data": {
            "text/plain": [
              "count    2451.000000\n",
              "mean       41.687882\n",
              "std       133.647783\n",
              "min         0.000000\n",
              "25%        10.000000\n",
              "50%        19.000000\n",
              "75%        34.000000\n",
              "max      3802.000000\n",
              "Name: qtd_concluintes, dtype: float64"
            ]
          },
          "metadata": {
            "tags": []
          },
          "execution_count": 163
        }
      ]
    },
    {
      "cell_type": "code",
      "metadata": {
        "id": "vnSjdzGb-gH3",
        "colab_type": "code",
        "colab": {
          "base_uri": "https://localhost:8080/",
          "height": 170
        },
        "outputId": "8790a40c-8bd5-4038-ee87-516014a1c463"
      },
      "source": [
        "eventos2['valor_recebido'].describe()"
      ],
      "execution_count": 164,
      "outputs": [
        {
          "output_type": "execute_result",
          "data": {
            "text/plain": [
              "count      2451.000000\n",
              "mean        983.367609\n",
              "std        4598.249048\n",
              "min           0.000000\n",
              "25%           0.000000\n",
              "50%           0.000000\n",
              "75%         350.000000\n",
              "max      121600.000000\n",
              "Name: valor_recebido, dtype: float64"
            ]
          },
          "metadata": {
            "tags": []
          },
          "execution_count": 164
        }
      ]
    },
    {
      "cell_type": "code",
      "metadata": {
        "id": "R-69fmhr-l_V",
        "colab_type": "code",
        "colab": {
          "base_uri": "https://localhost:8080/",
          "height": 170
        },
        "outputId": "055a9077-bcee-4ba9-bfd9-00c16a8df243"
      },
      "source": [
        "eventos2['pct_ocupacao'].describe()"
      ],
      "execution_count": 165,
      "outputs": [
        {
          "output_type": "execute_result",
          "data": {
            "text/plain": [
              "count    2133.000000\n",
              "mean        0.649509\n",
              "std         0.272286\n",
              "min         0.001500\n",
              "25%         0.443243\n",
              "50%         0.700000\n",
              "75%         0.883333\n",
              "max         1.000000\n",
              "Name: pct_ocupacao, dtype: float64"
            ]
          },
          "metadata": {
            "tags": []
          },
          "execution_count": 165
        }
      ]
    },
    {
      "cell_type": "code",
      "metadata": {
        "id": "lT72MI5Ab7bl",
        "colab_type": "code",
        "colab": {
          "base_uri": "https://localhost:8080/",
          "height": 51
        },
        "outputId": "281001cd-e16f-437e-d873-c50bb2e550f0"
      },
      "source": [
        "print(eventos2['valor_recebido'].mean())\n",
        "print(eventos2['valor_recebido'].median())"
      ],
      "execution_count": 166,
      "outputs": [
        {
          "output_type": "stream",
          "text": [
            "983.3676091391264\n",
            "0.0\n"
          ],
          "name": "stdout"
        }
      ]
    },
    {
      "cell_type": "code",
      "metadata": {
        "id": "kUOg-_0SccIt",
        "colab_type": "code",
        "colab": {}
      },
      "source": [
        "// dist = np.linalg.norm(atendimentos2.values[3] - atendimentos2.values[4])"
      ],
      "execution_count": 0,
      "outputs": []
    },
    {
      "cell_type": "markdown",
      "metadata": {
        "id": "KUf3AOQ0Gf1T",
        "colab_type": "text"
      },
      "source": [
        "**Não conseguimos obter êxito em normalizar este conjunto de dados**"
      ]
    },
    {
      "cell_type": "code",
      "metadata": {
        "id": "tMWJXV2BdfSt",
        "colab_type": "code",
        "colab": {}
      },
      "source": [
        "// eventos_norm = (eventos2 - eventos2.min()) / (eventos2.max() - eventos2.min())\n",
        "print(eventos_norm.head())"
      ],
      "execution_count": 0,
      "outputs": []
    },
    {
      "cell_type": "code",
      "metadata": {
        "id": "rCOF7qNrf7VO",
        "colab_type": "code",
        "colab": {}
      },
      "source": [
        "// eventos2['valor_recebido_norm'] = (eventos2['valor_recebido'] - eventos2['valor_recebido'].min()) / (eventos2['valor_recebido'].max() - eventos2['valor_recebido'].min())"
      ],
      "execution_count": 0,
      "outputs": []
    },
    {
      "cell_type": "markdown",
      "metadata": {
        "id": "t9suuxJUGXl6",
        "colab_type": "text"
      },
      "source": [
        "Discretizando **Quantidade de Concluintes**"
      ]
    },
    {
      "cell_type": "code",
      "metadata": {
        "id": "0thaZVqFh-lr",
        "colab_type": "code",
        "colab": {}
      },
      "source": [
        "eventos2['eventos_dist'] = pd.qcut(eventos2['qtd_concluintes'],4)"
      ],
      "execution_count": 0,
      "outputs": []
    },
    {
      "cell_type": "code",
      "metadata": {
        "id": "_Lm5TO_diq70",
        "colab_type": "code",
        "colab": {
          "base_uri": "https://localhost:8080/",
          "height": 102
        },
        "outputId": "95ffc2a3-c198-43aa-80a0-07468f59bc3b"
      },
      "source": [
        "eventos2['eventos_dist'].value_counts()"
      ],
      "execution_count": 183,
      "outputs": [
        {
          "output_type": "execute_result",
          "data": {
            "text/plain": [
              "(-0.001, 10.0]    687\n",
              "(34.0, 3802.0]    609\n",
              "(19.0, 34.0]      591\n",
              "(10.0, 19.0]      564\n",
              "Name: eventos_dist, dtype: int64"
            ]
          },
          "metadata": {
            "tags": []
          },
          "execution_count": 183
        }
      ]
    },
    {
      "cell_type": "code",
      "metadata": {
        "id": "VNVO6ZWp6HpG",
        "colab_type": "code",
        "colab": {}
      },
      "source": [
        "contagem = eventos2['eventos_dist'].value_counts()"
      ],
      "execution_count": 0,
      "outputs": []
    },
    {
      "cell_type": "markdown",
      "metadata": {
        "id": "0Y2mtsp5Gvxd",
        "colab_type": "text"
      },
      "source": [
        "**Gerando visualização dos dados discretizados**"
      ]
    },
    {
      "cell_type": "code",
      "metadata": {
        "id": "mEwMTFwL7JDJ",
        "colab_type": "code",
        "colab": {
          "base_uri": "https://localhost:8080/",
          "height": 282
        },
        "outputId": "130baf41-38b8-4086-c804-9fe4bfbf2650"
      },
      "source": [
        "contagem.plot.bar(rot=0)"
      ],
      "execution_count": 187,
      "outputs": [
        {
          "output_type": "execute_result",
          "data": {
            "text/plain": [
              "<matplotlib.axes._subplots.AxesSubplot at 0x7f5330c9fb38>"
            ]
          },
          "metadata": {
            "tags": []
          },
          "execution_count": 187
        },
        {
          "output_type": "display_data",
          "data": {
            "image/png": "[encoded data removed]",
            "text/plain": [
              "<Figure size 432x288 with 1 Axes>"
            ]
          },
          "metadata": {
            "tags": []
          }
        }
      ]
    },
    {
      "cell_type": "code",
      "metadata": {
        "id": "OeykF5xq8HSM",
        "colab_type": "code",
        "colab": {}
      },
      "source": [
        ""
      ],
      "execution_count": 0,
      "outputs": []
    }
  ]
}