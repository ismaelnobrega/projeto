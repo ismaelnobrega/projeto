{
  "nbformat": 4,
  "nbformat_minor": 0,
  "metadata": {
    "colab": {
      "name": "Teste_de_hipoteses.ipynb",
      "provenance": [],
      "collapsed_sections": [],
      "include_colab_link": true
    },
    "kernelspec": {
      "name": "python3",
      "display_name": "Python 3"
    }
  },
  "cells": [
    {
      "cell_type": "markdown",
      "metadata": {
        "id": "view-in-github",
        "colab_type": "text"
      },
      "source": [
        "<a href=\"https://colab.research.google.com/github/ismaelnobrega/projeto/blob/master/Teste_de_hipoteses_forestFires.ipynb\" target=\"_parent\"><img src=\"https://colab.research.google.com/assets/colab-badge.svg\" alt=\"Open In Colab\"/></a>"
      ]
    },
    {
      "cell_type": "markdown",
      "metadata": {
        "id": "akvp-v_Yr-xj",
        "colab_type": "text"
      },
      "source": [
        "# Teste de hipóteses"
      ]
    },
    {
      "cell_type": "markdown",
      "metadata": {
        "id": "WhO8Uq60sFBm",
        "colab_type": "text"
      },
      "source": [
        "## Procedimento para realizar um teste de hipótese\n",
        "\n",
        "1. Identifique o parâmetro de interesse no problema em análise.\n",
        "2. Fixe qual a hipótese nula $H_0$ e alternativa $H_a$.\n",
        "3. Use teoria estatı́stica e informações disponı́veis para decidir que estimador será usado para testar $H_0$.\n",
        "4. Obtenha a distribuição do estimador proposto.\n",
        "5. Determine $\\alpha$.\n",
        "6. Construa a região crı́tica para o teste de modo que $\\alpha$ seja satisfeita.\n",
        "7. Use os dados da amostra para determinar o valor do estimador, ou\n",
        "seja, uma estimativa para o parâmetro.\n",
        "8. Se o valor do estimador pertencer a região crı́tica, rejeite $H_0$. Caso contrário, reporte que não existe evidência para se rejeitar $H_0$."
      ]
    },
    {
      "cell_type": "markdown",
      "metadata": {
        "id": "EjkuxP33O0TP",
        "colab_type": "text"
      },
      "source": [
        "### Exemplo\n",
        "\n",
        "Um comprador de tijolos julga que a qualidade dos tijolos está\n",
        "deteriorando. Sabe-se pela experiência passada que a média de\n",
        "resistência ao esmagamento destes tijolos é de 400 libras com desvio\n",
        "padrão de 20 libras. Uma amostra de 100 tijolos deu uma média de 395\n",
        "libras. Teste a hipótese de que a qualidade média não se alterou contra\n",
        "a alternativa de que se tenha deteriorado. (considere o nı́vel de\n",
        "significância de 5%)"
      ]
    },
    {
      "cell_type": "markdown",
      "metadata": {
        "id": "f4N2Kh3UO52j",
        "colab_type": "text"
      },
      "source": [
        "1. Parâmetro de interesse: $\\mu$\n",
        "2. $H_0: \\mu = 400$; $H_a \\neq 400$\n",
        "3. Estimador: $\\bar{X}$\n",
        "4. $Z_0 = \\frac{\\bar{X} - \\mu_0}{\\frac{\\sigma}{\\sqrt{n}}}$ \n",
        "5. $\\alpha = 0,05$\n",
        "6. $z_c = 1,96$. Rejeitamos $H_0$ se $z_0 < -1.96$ ou $z_0 > 1.96$.\n",
        "7. $z_0 = \\frac{395 - 400}{\\frac{20}{\\sqrt{100}}} = -\\frac{5}{2} = -2,5$\n",
        "8. Rejeitamos $H_0$, isto é, a resistência não é mais de 400 libras."
      ]
    },
    {
      "cell_type": "code",
      "metadata": {
        "id": "p1hRzfkOTgFj",
        "colab_type": "code",
        "colab": {}
      },
      "source": [
        "import scipy.stats as st\n",
        "import numpy as np"
      ],
      "execution_count": 0,
      "outputs": []
    },
    {
      "cell_type": "code",
      "metadata": {
        "id": "K-BQBBOGTK3T",
        "colab_type": "code",
        "colab": {}
      },
      "source": [
        "def calc_z0(xm, mi, sigma, n):\n",
        "  return (xm - mi)/(sigma/np.sqrt(n))"
      ],
      "execution_count": 0,
      "outputs": []
    },
    {
      "cell_type": "code",
      "metadata": {
        "id": "bn6z1i4KUkNC",
        "colab_type": "code",
        "colab": {}
      },
      "source": [
        "def decision_normal(z0, alpha, unilateral=True, right=True):\n",
        "  p = st.norm.cdf(z0)\n",
        "  if unilateral:\n",
        "    if right:\n",
        "      reject = (p > (1.0 - alpha))\n",
        "    else:\n",
        "      reject = (p < alpha)\n",
        "  else:\n",
        "    reject = ((p < (alpha/2)) | (p > (1.0 - alpha/2)))\n",
        "\n",
        "  return reject"
      ],
      "execution_count": 0,
      "outputs": []
    },
    {
      "cell_type": "code",
      "metadata": {
        "id": "uDQPxz-ESbGa",
        "colab_type": "code",
        "colab": {}
      },
      "source": [
        "mi = 400\n",
        "sigma = 20\n",
        "n = 100\n",
        "xm = 395 \n",
        "alpha = 0.05\n",
        "\n",
        "z0 = calc_z0(xm, mi, sigma, n)"
      ],
      "execution_count": 0,
      "outputs": []
    },
    {
      "cell_type": "code",
      "metadata": {
        "id": "Au1Xp_PqTtHH",
        "colab_type": "code",
        "outputId": "615aa7aa-4ad7-4ffc-fca4-747ee63cc7a0",
        "colab": {
          "base_uri": "https://localhost:8080/",
          "height": 69
        }
      },
      "source": [
        "print('z0 = ', z0)\n",
        "p_z0 = st.norm.cdf(z0)\n",
        "print('p(z0) = ', p_z0)\n",
        "\n",
        "reject = decision_normal(z0, alpha, unilateral=False)\n",
        "\n",
        "if(reject):\n",
        "  print('H_0 rejeitada')\n",
        "else:\n",
        "  print('H_0 não rejeitada')"
      ],
      "execution_count": 0,
      "outputs": [
        {
          "output_type": "stream",
          "text": [
            "z0 =  -2.5\n",
            "p(z0) =  0.006209665325776132\n",
            "H_0 rejeitada\n"
          ],
          "name": "stdout"
        }
      ]
    },
    {
      "cell_type": "markdown",
      "metadata": {
        "id": "cRHHAN9ZW1nj",
        "colab_type": "text"
      },
      "source": [
        "### Exemplo\n",
        "\n",
        "Um trecho de uma rodoviária, quando é utilizado o radar, são verificadas\n",
        "em média 7 infrações diárias por excesso de velocidade. O chefe da\n",
        "polı́cia acredita que este número pode ter aumentado. Para verificar isso,\n",
        "o radar foi mantido por 10 dias consecutivos. Os resultados foram: 8, 9,\n",
        "5, 7, 8, 12, 6, 9, 6, 10. Os dados trazem evidências do aumento das\n",
        "infrações?"
      ]
    },
    {
      "cell_type": "markdown",
      "metadata": {
        "id": "A9EW68lHXJeW",
        "colab_type": "text"
      },
      "source": [
        "1. Parâmetro de interesse: $\\mu$\n",
        "2. $H_0: \\mu \\le 7$; $H_a > 7$\n",
        "3. Estimador: $\\bar{X} = 8$\n",
        "4. $t_0 = \\frac{\\bar{x} - \\mu_0}{\\frac{s}{\\sqrt{n}}}$ \n",
        "5. $\\alpha = 0,05$\n",
        "6. $t_c = 1,83$. Rejeita $H_0$ se $t_0 > 1.83$.\n",
        "7. $t_0 = \\frac{8 - 7}{\\frac{2,1}{\\sqrt{10}}} = 1,5$\n",
        "8. Não rejeitamos $H_0$, o que implica que o número de infrações não\n",
        "teve um aumento significativo."
      ]
    },
    {
      "cell_type": "code",
      "metadata": {
        "id": "RDz0SgVBYu9R",
        "colab_type": "code",
        "colab": {}
      },
      "source": [
        "def calc_t0(xm, mi, s, n):\n",
        "  return (xm - mi)/(s/np.sqrt(n))"
      ],
      "execution_count": 0,
      "outputs": []
    },
    {
      "cell_type": "code",
      "metadata": {
        "id": "TdhnFSiMZRtM",
        "colab_type": "code",
        "colab": {}
      },
      "source": [
        "def decision_tstudent(t0, alpha, df, unilateral=True, right=True):\n",
        "  p = st.t.cdf(t0, df)\n",
        "  if unilateral:\n",
        "    if right:\n",
        "      reject = (p > (1.0 - alpha))\n",
        "    else:\n",
        "      reject = (p < alpha)\n",
        "  else:\n",
        "    reject = ((p < (alpha/2)) | (p > (1.0 - alpha/2)))\n",
        "\n",
        "  return reject"
      ],
      "execution_count": 0,
      "outputs": []
    },
    {
      "cell_type": "code",
      "metadata": {
        "id": "qqGhCifQX96R",
        "colab_type": "code",
        "colab": {}
      },
      "source": [
        "mi = 7\n",
        "x = np.array([8, 9, 5, 7, 8, 12, 6, 9, 6, 10])\n",
        "xm = np.mean(x)\n",
        "s = np.std(x)\n",
        "n = len(x)\n",
        "df = n - 1\n",
        "alpha = 0.05\n",
        "\n",
        "t0 = calc_t0(xm, mi, s, n)"
      ],
      "execution_count": 0,
      "outputs": []
    },
    {
      "cell_type": "code",
      "metadata": {
        "id": "_66S50SLbjsL",
        "colab_type": "code",
        "outputId": "fdd958ac-5f77-4abf-f1d3-12c9c64eb364",
        "colab": {
          "base_uri": "https://localhost:8080/",
          "height": 69
        }
      },
      "source": [
        "print('t0 = ', t0)\n",
        "p_t0 = st.t.cdf(t0, df)\n",
        "print('p(t0) = ', p_t0)\n",
        "\n",
        "reject = decision_normal(t0, alpha, df)\n",
        "\n",
        "if(reject):\n",
        "  print('H_0 rejeitada')\n",
        "else:\n",
        "  print('H_0 não rejeitada')"
      ],
      "execution_count": 0,
      "outputs": [
        {
          "output_type": "stream",
          "text": [
            "t0 =  1.5811388300841895\n",
            "p(t0) =  0.9258476463167203\n",
            "H_0 não rejeitada\n"
          ],
          "name": "stdout"
        }
      ]
    },
    {
      "cell_type": "markdown",
      "metadata": {
        "id": "4dOBlMo9e1zg",
        "colab_type": "text"
      },
      "source": [
        "### Exercício\n",
        "\n",
        "A vida média de uma amostra de 100 lâmpadas\n",
        "fluorescentes produzidas por uma companhia foi\n",
        "calculada em 1570 horas, com desvio padrão de\n",
        "120 horas. Se $\\mu$ é a vida média de todas as\n",
        "lâmpadas produzidas pela companhia, teste a\n",
        "hipótese $\\mu = 1600$ horas, em face da hipótese\n",
        "alternativa $\\mu \\neq 1600$ horas, adotando o nível de\n",
        "significância 0,05 e 0,01 ."
      ]
    },
    {
      "cell_type": "code",
      "metadata": {
        "id": "HLK-SrZ6fGg3",
        "colab_type": "code",
        "colab": {}
      },
      "source": [
        "n = 100\n",
        "xm = 1570\n",
        "s = 120\n",
        "mi = 1600"
      ],
      "execution_count": 0,
      "outputs": []
    },
    {
      "cell_type": "code",
      "metadata": {
        "id": "5oavJTdzfUcB",
        "colab_type": "code",
        "outputId": "b4302691-f353-4fba-e6b1-70ae0f8f4cd9",
        "colab": {
          "base_uri": "https://localhost:8080/",
          "height": 52
        }
      },
      "source": [
        "alpha = 0.05\n",
        "# Como n >= 30 podemos usar a normal\n",
        "sigma = s\n",
        "z0 = calc_z0(xm, mi, sigma, n)\n",
        "reject = decision_normal(z0, alpha, unilateral=False)\n",
        "if(reject):\n",
        "  print('H_0 rejeitada')\n",
        "  print('A vida média das lâmpadas não é 1600h')\n",
        "else:\n",
        "  print('H_0 não rejeitada')\n",
        "  print('Não há evidência que a vida média seja diferente de 1600h')"
      ],
      "execution_count": 0,
      "outputs": [
        {
          "output_type": "stream",
          "text": [
            "H_0 rejeitada\n",
            "A vida média das lâmpadas não é 1600h\n"
          ],
          "name": "stdout"
        }
      ]
    },
    {
      "cell_type": "code",
      "metadata": {
        "id": "3q2_yROugNG-",
        "colab_type": "code",
        "outputId": "81f9290b-ff21-44f1-8a8e-eba24e84b096",
        "colab": {
          "base_uri": "https://localhost:8080/",
          "height": 52
        }
      },
      "source": [
        "alpha = 0.01\n",
        "reject = decision_normal(z0, alpha, unilateral=False)\n",
        "if(reject):\n",
        "  print('H_0 rejeitada')\n",
        "  print('A vida média das lâmpadas não é 1600h')\n",
        "else:\n",
        "  print('H_0 não rejeitada')\n",
        "  print('Não há evidência que a vida média seja diferente de 1600h')"
      ],
      "execution_count": 0,
      "outputs": [
        {
          "output_type": "stream",
          "text": [
            "H_0 não rejeitada\n",
            "Não há evidência que a vida média seja diferente de 1600h\n"
          ],
          "name": "stdout"
        }
      ]
    },
    {
      "cell_type": "markdown",
      "metadata": {
        "id": "ZS0mGOKGg3xQ",
        "colab_type": "text"
      },
      "source": [
        "Em um estudo para avaliar um novo motor instalado\n",
        "em automóveis, um grupo de pesquisa está buscando\n",
        "evidências para concluir que o novo motor aumenta a\n",
        "média de quilômetros por litro. Numa amostra de 25\n",
        "carros com o motor antigo, a média de km/l foi de 12 e\n",
        "desvio padrão de 0,5. O que se pode concluir a\n",
        "respeito desse novo motor, sabendo que o fabricante\n",
        "garante uma média de 13km/l e nível de significância\n",
        "de 5\\%?"
      ]
    },
    {
      "cell_type": "code",
      "metadata": {
        "id": "4taUCk-RhALj",
        "colab_type": "code",
        "colab": {}
      },
      "source": [
        "n = 25\n",
        "xm = 12\n",
        "s = 0.5\n",
        "mi = 13\n",
        "alpha = 0.05\n",
        "df = n-1"
      ],
      "execution_count": 0,
      "outputs": []
    },
    {
      "cell_type": "code",
      "metadata": {
        "id": "4PPefO_ohQsv",
        "colab_type": "code",
        "outputId": "325ecebd-153c-44ac-b7e0-b32697ba1f7f",
        "colab": {
          "base_uri": "https://localhost:8080/",
          "height": 86
        }
      },
      "source": [
        "t0 = calc_t0(xm, mi, s, n)\n",
        "p_t0 = st.t.cdf(t0, df)\n",
        "interval = st.t.interval(alpha, df)\n",
        "print(t0)\n",
        "print(p_t0)\n",
        "\n",
        "reject = decision_tstudent(t0, alpha, df, unilateral=True, right=False)\n",
        "if(reject):\n",
        "  print('H_0 rejeitada')\n",
        "  print('Os carros antigos têm uma média de quilometragem por litro menor')\n",
        "else:\n",
        "  print('H_0 não rejeitada')\n",
        "  print('Não há evidência que os carros antigos têm uma média de quilometragem por litro menor')"
      ],
      "execution_count": 0,
      "outputs": [
        {
          "output_type": "stream",
          "text": [
            "-10.0\n",
            "2.457762763837646e-10\n",
            "H_0 rejeitada\n",
            "Os carros antigos têm uma média de quilometragem por litro menor\n"
          ],
          "name": "stdout"
        }
      ]
    }
  ]
}